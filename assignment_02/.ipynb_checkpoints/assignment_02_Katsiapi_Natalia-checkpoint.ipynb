{
 "cells": [
  {
   "cell_type": "markdown",
   "id": "d0a5acb3-a2f5-4b18-8065-3374763add70",
   "metadata": {},
   "source": [
    "# Belief in Supernatural Evil and Guns\n",
    "\n",
    "---\n",
    "\n",
    "> Natalia Katsiapi, 810040 <br/>\n",
    "> Department of Management Science and Technology <br/>\n",
    "> Athens University of Economics and Business <br/>\n",
    "> t8180040@aueb.gr"
   ]
  },
  {
   "cell_type": "code",
   "execution_count": null,
   "id": "1183ccc0-3192-482a-b3ac-aa318beb06cb",
   "metadata": {},
   "outputs": [],
   "source": []
  }
 ],
 "metadata": {
  "kernelspec": {
   "display_name": "Python 3 (ipykernel)",
   "language": "python",
   "name": "python3"
  },
  "language_info": {
   "codemirror_mode": {
    "name": "ipython",
    "version": 3
   },
   "file_extension": ".py",
   "mimetype": "text/x-python",
   "name": "python",
   "nbconvert_exporter": "python",
   "pygments_lexer": "ipython3",
   "version": "3.7.4"
  }
 },
 "nbformat": 4,
 "nbformat_minor": 5
}
